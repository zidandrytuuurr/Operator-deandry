{
 "cells": [
  {
   "cell_type": "code",
   "execution_count": 2,
   "id": "3c3e0392",
   "metadata": {},
   "outputs": [],
   "source": [
    "num1 = 10\n",
    "num2 = 3\n",
    "\n",
    "jumlah = num1 + num2\n",
    "kurang = num1 - num2\n",
    "kali = num1 + num2\n",
    "bagi = num1 / num2\n",
    "bagi_bulat = num1 // num2\n",
    "pangkat = num1 ** num2\n",
    "modulus = num1 % num2"
   ]
  },
  {
   "cell_type": "code",
   "execution_count": 5,
   "id": "a17e6ba6",
   "metadata": {},
   "outputs": [
    {
     "ename": "SyntaxError",
     "evalue": "invalid syntax (3150228320.py, line 20)",
     "output_type": "error",
     "traceback": [
      "\u001b[1;36m  Input \u001b[1;32mIn [5]\u001b[1;36m\u001b[0m\n\u001b[1;33m    for in range (0,5):\u001b[0m\n\u001b[1;37m        ^\u001b[0m\n\u001b[1;31mSyntaxError\u001b[0m\u001b[1;31m:\u001b[0m invalid syntax\n"
     ]
    }
   ],
   "source": [
    "x = 5 #assigment operator\n",
    "x +10 #x = x + 10 => 15\n",
    "print(x)\n",
    "x -=4 #x = x - 4 => 11\n",
    "print(x)\n",
    "x *=2 #x = x * 2 => 22\n",
    "print(x)\n",
    "x /= 3 #x = x / 3 => 7....\n",
    "print(x)\n",
    "x //=2 #x = x // 2 => 3.0\n",
    "print(x)\n",
    "x **=3 #x = x ** 3 => 27\n",
    "print(x)\n",
    "x %=2 #x = x % 2 => 1\n",
    "print(x)\n",
    "\n",
    "data =[1,2,3,4,5]\n",
    "total = 0\n",
    "\n",
    "for in range (0,5):\n",
    "    total += data[i]\n",
    "print(\"total :\",total)"
   ]
  },
  {
   "cell_type": "code",
   "execution_count": 9,
   "id": "0512ef68",
   "metadata": {},
   "outputs": [
    {
     "name": "stdout",
     "output_type": "stream",
     "text": [
      "False\n",
      "True\n",
      "True\n",
      "False\n",
      "True\n",
      "False\n"
     ]
    }
   ],
   "source": [
    "bil1 = 8\n",
    "bil2 = 7\n",
    "\n",
    "is_equal = bil1 == bil2\n",
    "is_not_equal = bil1 != bil2\n",
    "is_greater_than = bil1 > bil2\n",
    "is_less_than = bil1 < bil2\n",
    "is_greater_equal = bil1 >= bil2\n",
    "is_less_equal = bil1 <= bil2\n",
    "\n",
    "print(is_equal)\n",
    "print(is_not_equal)\n",
    "print(is_greater_than)\n",
    "print(is_less_than)\n",
    "print(is_greater_equal)\n",
    "print(is_less_equal)"
   ]
  },
  {
   "cell_type": "code",
   "execution_count": 10,
   "id": "20e33196",
   "metadata": {},
   "outputs": [
    {
     "name": "stdout",
     "output_type": "stream",
     "text": [
      "True\n",
      "False\n",
      "True\n"
     ]
    }
   ],
   "source": [
    "var1 = 4\n",
    "var2 = 10\n",
    "\n",
    "opr_and = var1 < var2 and var1 <=4 #True\n",
    "opr_or = var1 >= var2 or var1 % 2==1 #False\n",
    "opr_not = not opr_or\n",
    "print(opr_and)\n",
    "print(opr_or)\n",
    "print(opr_not)"
   ]
  },
  {
   "cell_type": "code",
   "execution_count": 12,
   "id": "f7a83ea9",
   "metadata": {},
   "outputs": [
    {
     "name": "stdout",
     "output_type": "stream",
     "text": [
      "True\n",
      "False\n",
      "False\n",
      "True\n",
      "True\n",
      "False\n"
     ]
    }
   ],
   "source": [
    "fruits = [\"Apple\",\"Mangoes\",\"Watermelon\"]\n",
    "my_favorite_fruits = fruits #Lokasi memori yang sama\n",
    "your_fruits = [\"Apple\",\"Mangoes\",\"Watermelon\"]\n",
    "\n",
    "print(fruits is my_favorite_fruits)\n",
    "print(fruits is your_fruits)\n",
    "print(fruits is not my_favorite_fruits)\n",
    "print(fruits is not your_fruits)\n",
    "\n",
    "a =5\n",
    "b = 5 #python menggunakan metode asing dalam memberikan nilai variabel\n",
    "print(a is b)\n",
    "print(a is not b)"
   ]
  },
  {
   "cell_type": "code",
   "execution_count": 13,
   "id": "664ac634",
   "metadata": {},
   "outputs": [
    {
     "name": "stdout",
     "output_type": "stream",
     "text": [
      "True\n",
      "False\n",
      "True\n",
      "True\n"
     ]
    }
   ],
   "source": [
    "student_names = [\"Andi\",\"Beni\",\"Chika\"]\n",
    "print(\"Beni\" in student_names)\n",
    "print(\"Andi\" not in student_names)\n",
    "print(\"Chika\" in student_names)\n",
    "print(\"Defi\" not in student_names)"
   ]
  },
  {
   "cell_type": "code",
   "execution_count": 18,
   "id": "a4aade40",
   "metadata": {},
   "outputs": [
    {
     "name": "stdout",
     "output_type": "stream",
     "text": [
      "15\n",
      "255\n",
      "240\n"
     ]
    }
   ],
   "source": [
    "nilai_and = 255 & 15\n",
    "nilai_or = 255 | 15\n",
    "nilai_xor = 255 ^ 15\n",
    "# 11111111\n",
    "# 00001111\n",
    "# --------- xor\n",
    "# 00001111 => 16 + 32 + 64 + 128\n",
    "print(nilai_and)\n",
    "print(nilai_or)\n",
    "print(nilai_xor)"
   ]
  }
 ],
 "metadata": {
  "kernelspec": {
   "display_name": "Python 3 (ipykernel)",
   "language": "python",
   "name": "python3"
  },
  "language_info": {
   "codemirror_mode": {
    "name": "ipython",
    "version": 3
   },
   "file_extension": ".py",
   "mimetype": "text/x-python",
   "name": "python",
   "nbconvert_exporter": "python",
   "pygments_lexer": "ipython3",
   "version": "3.9.12"
  }
 },
 "nbformat": 4,
 "nbformat_minor": 5
}
